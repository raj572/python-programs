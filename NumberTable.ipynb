{
  "nbformat": 4,
  "nbformat_minor": 0,
  "metadata": {
    "colab": {
      "provenance": [],
      "authorship_tag": "ABX9TyMAk7cRzBt+opr0eRpfctIs",
      "include_colab_link": true
    },
    "kernelspec": {
      "name": "python3",
      "display_name": "Python 3"
    },
    "language_info": {
      "name": "python"
    }
  },
  "cells": [
    {
      "cell_type": "markdown",
      "metadata": {
        "id": "view-in-github",
        "colab_type": "text"
      },
      "source": [
        "<a href=\"https://colab.research.google.com/github/raj572/python-programs/blob/main/NumberTable.ipynb\" target=\"_parent\"><img src=\"https://colab.research.google.com/assets/colab-badge.svg\" alt=\"Open In Colab\"/></a>"
      ]
    },
    {
      "cell_type": "code",
      "execution_count": null,
      "metadata": {
        "colab": {
          "base_uri": "https://localhost:8080/"
        },
        "id": "_VX39STfX288",
        "outputId": "6c31c92a-1876-472c-8e1e-dfe907aa6d76"
      },
      "outputs": [
        {
          "output_type": "stream",
          "name": "stdout",
          "text": [
            "Enter number : 10\n",
            "10  x  1  =  10\n",
            "10  x  2  =  20\n",
            "10  x  3  =  30\n",
            "10  x  4  =  40\n",
            "10  x  5  =  50\n",
            "10  x  6  =  60\n",
            "10  x  7  =  70\n",
            "10  x  8  =  80\n",
            "10  x  9  =  90\n",
            "10  x  10  =  100\n",
            "Enter number : 20\n",
            "20  x  1  =  20\n",
            "20  x  2  =  40\n",
            "20  x  3  =  60\n",
            "20  x  4  =  80\n",
            "20  x  5  =  100\n",
            "20  x  6  =  120\n",
            "20  x  7  =  140\n",
            "20  x  8  =  160\n",
            "20  x  9  =  180\n",
            "20  x  10  =  200\n"
          ]
        }
      ],
      "source": [
        "while True:\n",
        "  n=input('Enter number : ')\n",
        "  if (n=='q'):\n",
        "    print('Thanks for using this program!')\n",
        "    break\n",
        "  else:\n",
        "    i=1\n",
        "    while i<=10:\n",
        "      print(n,' x ',i,' = ',int(n)*i)\n",
        "      i+=1\n"
      ]
    }
  ]
}